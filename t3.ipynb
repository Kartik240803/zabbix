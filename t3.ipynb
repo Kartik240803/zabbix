{
 "cells": [
  {
   "cell_type": "code",
   "execution_count": 57,
   "id": "ad4f40f0",
   "metadata": {},
   "outputs": [],
   "source": [
    "import pymysql\n",
    "import pandas as pd\n",
    "# Database connection configuration\n",
    "db_config = {\n",
    "    'host': '140.238.230.93',\n",
    "    'user': 'kartik',\n",
    "    'password': 'Kartik@24082003',\n",
    "    'database': 'zabbix',\n",
    "    'cursorclass': pymysql.cursors.DictCursor  # optional, returns dict rows\n",
    "}\n",
    "\n",
    "# SQL Query\n",
    "sql_query = \"\"\"\n",
    "            SELECT\n",
    "                h.name AS host,\n",
    "                t.description AS trigger_name,\n",
    "                e.name AS event_name,\n",
    "                e.eventid,\n",
    "                e.acknowledged,\n",
    "                e.clock AS start_time,\n",
    "                COALESCE(er.clock, UNIX_TIMESTAMP()) AS end_time,\n",
    "                COALESCE(er.clock, UNIX_TIMESTAMP()) - e.clock AS duration,\n",
    "                er.eventid AS recovery_eventid\n",
    "            FROM hosts h\n",
    "            JOIN items i ON i.hostid = h.hostid AND i.status = 0\n",
    "            JOIN functions f ON f.itemid = i.itemid\n",
    "            JOIN triggers t ON t.triggerid = f.triggerid AND t.status = 0\n",
    "            JOIN events e ON e.objectid = t.triggerid AND e.object = 0 AND e.value = 1\n",
    "            LEFT JOIN event_recovery erc ON erc.eventid = e.eventid\n",
    "            LEFT JOIN events er ON er.eventid = erc.r_eventid\n",
    "            WHERE \n",
    "                h.status = 0\n",
    "                AND h.flags IN (0, 4)\n",
    "\"\"\"\n",
    "\n",
    "try:\n",
    "    # Connect to the database\n",
    "    connection = pymysql.connect(**db_config)\n",
    "    with connection:\n",
    "        with connection.cursor() as cursor:\n",
    "            cursor.execute(sql_query)\n",
    "            results = cursor.fetchall()\n",
    "\n",
    "\n",
    "except Exception as e:\n",
    "    print(\"Error:\", e)\n"
   ]
  },
  {
   "cell_type": "code",
   "execution_count": 58,
   "id": "a2422107",
   "metadata": {},
   "outputs": [
    {
     "name": "stdout",
     "output_type": "stream",
     "text": [
      "                 host                                   trigger_name  \\\n",
      "0       Zabbix server                 {HOST.NAME} has been restarted   \n",
      "1       Zabbix server   Utilization of http poller processes is high   \n",
      "2       Zabbix server        Utilization of poller processes is high   \n",
      "3       Zabbix server  Number of installed packages has been changed   \n",
      "4       Zabbix server  Number of installed packages has been changed   \n",
      "...               ...                                            ...   \n",
      "5239    Zabbix server                           High CPU utilization   \n",
      "5240    Zabbix server                           High CPU utilization   \n",
      "5241    Zabbix server                           High CPU utilization   \n",
      "5242  WIN-EVKHD7M05S9                Active checks are not available   \n",
      "5243    Zabbix server                           High CPU utilization   \n",
      "\n",
      "                                           event_name  eventid  acknowledged  \\\n",
      "0     Zabbix server has been restarted (uptime < 10m)        7             0   \n",
      "1       Utilization of http poller processes over 75%      388             0   \n",
      "2            Utilization of poller processes over 75%      498             0   \n",
      "3       Number of installed packages has been changed      499             0   \n",
      "4       Number of installed packages has been changed      524             0   \n",
      "...                                               ...      ...           ...   \n",
      "5239           High CPU utilization (over 90% for 5m)  2202960             0   \n",
      "5240           High CPU utilization (over 90% for 5m)  2203131             0   \n",
      "5241           High CPU utilization (over 90% for 5m)  2203381             0   \n",
      "5242                  Active checks are not available  2203428             0   \n",
      "5243           High CPU utilization (over 90% for 5m)  2203471             0   \n",
      "\n",
      "      start_time    end_time  duration  recovery_eventid  \n",
      "0     1722422250  1722422280        30              27.0  \n",
      "1     1722438999  1722444400      5401             520.0  \n",
      "2     1722439964  1722444464      4500             523.0  \n",
      "3     1722440635  1722444235      3600             519.0  \n",
      "4     1722516235  1722559435     43200             531.0  \n",
      "...          ...         ...       ...               ...  \n",
      "5239  1748442744  1748442804        60         2202969.0  \n",
      "5240  1748443944  1748444004        60         2203140.0  \n",
      "5241  1748445744  1748445804        60         2203390.0  \n",
      "5242  1748446036  1748447349      1313               NaN  \n",
      "5243  1748446344  1748446404        60         2203480.0  \n",
      "\n",
      "[5244 rows x 9 columns]\n",
      "['host', 'trigger_name', 'event_name', 'eventid', 'acknowledged', 'start_time', 'end_time', 'duration', 'recovery_eventid']\n"
     ]
    }
   ],
   "source": [
    "df = pd.DataFrame(results)\n",
    "print(df)\n",
    "print(df.columns.tolist())"
   ]
  },
  {
   "cell_type": "code",
   "execution_count": 59,
   "id": "a3c64072",
   "metadata": {},
   "outputs": [],
   "source": [
    "def get_host_by_group(host_group):\n",
    "    \"\"\"\n",
    "    Function to get the host group for a given host.\n",
    "    This is a placeholder function; implement the actual logic as needed.\n",
    "    \"\"\"\n",
    "    query = \"\"\"\n",
    "    SELECT \n",
    "  g.name AS group_name,\n",
    "  h.host AS host_name\n",
    "FROM hstgrp g\n",
    "JOIN hosts_groups hg ON g.groupid = hg.groupid\n",
    "JOIN hosts h ON hg.hostid = h.hostid\n",
    "WHERE g.name = %s\n",
    "\"\"\"\n",
    "    try:\n",
    "        connection = pymysql.connect(**db_config)\n",
    "        with connection:\n",
    "            with connection.cursor() as cursor:\n",
    "                cursor.execute(query, (host_group,))\n",
    "                result = cursor.fetchall()\n",
    "                if result:\n",
    "                    return result\n",
    "    \n",
    "    except Exception as e:\n",
    "        print(\"Error retrieving host group:\", e)\n",
    "\n",
    "    # Example logic, replace with actual implementation\n",
    "    return \"Default Group\"  # Replace with actual group retrieval logic"
   ]
  },
  {
   "cell_type": "code",
   "execution_count": 60,
   "id": "a5242c8e",
   "metadata": {},
   "outputs": [
    {
     "name": "stdout",
     "output_type": "stream",
     "text": [
      "['asg-ip-140.245.29.55', 'ip-172-31-94-226.ec2.internal', 'alma', 'test-zab-kartik', 'asg-ip-122.170.27.131', 'asg-ip-103.241.45.149', 'ip-172-31-54-55.ec2.internal', 'ip-172-31-57-240.ec2.internal']\n"
     ]
    }
   ],
   "source": [
    "host = get_host_by_group(\"ASG\")\n",
    "\n",
    "# print(host)  # Print the result of the function call\n",
    "print([name['host_name'] for name in host])  # Print column names\n",
    "# print(host['host_name'])  # Example usage of the function"
   ]
  },
  {
   "cell_type": "code",
   "execution_count": 61,
   "id": "2e482d3e",
   "metadata": {},
   "outputs": [],
   "source": [
    "def get_alerts(time_from: int = None, time_to: int = None, hostname: str = None, limit: int = 100000, host_group: str = None):\n",
    "    alerts = pd.DataFrame(results)\n",
    "    alerts = alerts.sort_values(by='start_time', ascending=False)\n",
    "\n",
    "    if time_from is not None:\n",
    "        alerts = alerts[alerts['start_time'] >= time_from]\n",
    "    if time_to is not None:\n",
    "        alerts = alerts[alerts['start_time'] <= time_to]\n",
    "    if hostname is not None:\n",
    "        alerts = alerts[alerts['host'] == hostname]\n",
    "    if host_group is not None:\n",
    "        host_list = get_host_by_group(host_group)\n",
    "        host_in_group = [h['host_name'] for h in host_list]\n",
    "        print(f\"Hosts in group {host_group}: {host_in_group}\")\n",
    "        alerts = alerts[alerts['host'].isin(host_in_group)]\n",
    "\n",
    "    if limit is not None:\n",
    "        alerts = alerts.head(limit)\n",
    "\n",
    "    return alerts\n"
   ]
  },
  {
   "cell_type": "code",
   "execution_count": 62,
   "id": "90fc43bd",
   "metadata": {},
   "outputs": [
    {
     "name": "stdout",
     "output_type": "stream",
     "text": [
      "Hosts in group Zabbix servers: ['Zabbix server', 'test_heena', 'test_heena_flag4', 'template_created']\n"
     ]
    }
   ],
   "source": [
    "al = get_alerts(host_group=\"Zabbix servers\",time_from=1748443658)"
   ]
  },
  {
   "cell_type": "code",
   "execution_count": 63,
   "id": "51facc77",
   "metadata": {},
   "outputs": [
    {
     "name": "stdout",
     "output_type": "stream",
     "text": [
      "               host          trigger_name  \\\n",
      "5243  Zabbix server  High CPU utilization   \n",
      "5241  Zabbix server  High CPU utilization   \n",
      "5240  Zabbix server  High CPU utilization   \n",
      "\n",
      "                                  event_name  eventid  acknowledged  \\\n",
      "5243  High CPU utilization (over 90% for 5m)  2203471             0   \n",
      "5241  High CPU utilization (over 90% for 5m)  2203381             0   \n",
      "5240  High CPU utilization (over 90% for 5m)  2203131             0   \n",
      "\n",
      "      start_time    end_time  duration  recovery_eventid  \n",
      "5243  1748446344  1748446404        60         2203480.0  \n",
      "5241  1748445744  1748445804        60         2203390.0  \n",
      "5240  1748443944  1748444004        60         2203140.0  \n"
     ]
    }
   ],
   "source": [
    "print(al)"
   ]
  }
 ],
 "metadata": {
  "kernelspec": {
   "display_name": "Python 3",
   "language": "python",
   "name": "python3"
  },
  "language_info": {
   "codemirror_mode": {
    "name": "ipython",
    "version": 3
   },
   "file_extension": ".py",
   "mimetype": "text/x-python",
   "name": "python",
   "nbconvert_exporter": "python",
   "pygments_lexer": "ipython3",
   "version": "3.12.3"
  }
 },
 "nbformat": 4,
 "nbformat_minor": 5
}
